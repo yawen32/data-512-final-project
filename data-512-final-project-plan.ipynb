{
 "cells": [
  {
   "cell_type": "markdown",
   "metadata": {},
   "source": [
    "## 1.\tAbstract"
   ]
  },
  {
   "cell_type": "markdown",
   "metadata": {},
   "source": [
    "The purpose of this project is to perform an exploratory analysis on rankings of global universities that can provide applicants a guideline in many different aspects to help them make better decisions on their applications. The project will also strive to suggest improvements in the areas covered by the ranking systems to make them stronger. However, often ranking a university is a difficult and controversial practice due to many influences, including geographical coverage, institutional coverage, the way indicators are calculated, etc. From what I’ve learned from human-centered data science so far, I would like to take bias into consideration. Therefore, two global university rankings from very different places will be used to find out underlying biases among ranking systems produced by different countries. The project should be fully reproducible by following the step-by-step instructions in the final notebook file."
   ]
  },
  {
   "cell_type": "markdown",
   "metadata": {},
   "source": [
    "## 2.\tMotivation"
   ]
  },
  {
   "cell_type": "markdown",
   "metadata": {},
   "source": [
    "More than 4.5 million students are enrolled in university-level education outside their country of origin and this number is continually growing. Over the past years, as a new form of higher education evaluation system, university ranking has become prevalence all over the world. World university rankings are widely used to measure the competitiveness of instructing institutions and regarded as one of crucial factors to consider for applicants of overseas universities. From the perspective of schools, it is important to know which objective indicators have the largest impact on their rankings so that they can improve practices and ranks to raise their reputations. On the other hand, it is also important for the people who are seeking for universities abroad to know which countries have most high-quality universities so that they can have a clearer direction on their applications. "
   ]
  },
  {
   "cell_type": "markdown",
   "metadata": {},
   "source": [
    "## 3.\tResearch Questions and Hypothesis"
   ]
  },
  {
   "cell_type": "markdown",
   "metadata": {},
   "source": [
    "As a human-centered based project, I start the exploration of world university rankings with several research questions and corresponding hypotheses."
   ]
  },
  {
   "cell_type": "markdown",
   "metadata": {},
   "source": [
    "### 3.1\tRQ1: What factors contribute to world university rankings a lot?\n",
    "The rankings are calculated based on various measures. In this research question, I want to figure out what factors really make an educational institution ranks higher than the others. "
   ]
  },
  {
   "cell_type": "markdown",
   "metadata": {},
   "source": [
    "#### H1a: Universities with higher research and citation scores are more likely to rank higher.\n",
    "Unlike national ranking systems, global university rankings may focus more on the research area, other factors such as teaching and learning environment have less impact on the final ranking results."
   ]
  },
  {
   "cell_type": "markdown",
   "metadata": {},
   "source": [
    "#### H1b: Student-staff ratio affects rankings to a great extent. Higher ratio leads to lower ranking.\n",
    "Student-staff ratio means number of students per staff. Students may get more attention in the universities with lower ratios which leads to higher education quality."
   ]
  },
  {
   "cell_type": "markdown",
   "metadata": {},
   "source": [
    "### 3.2\tRQ2: Which countries have the most high-ranked universities on average? Why these countries have more top universities?\n",
    "As far as I know, lots of globally-ranked universities are in the US. But how about other countries? In this research question, I would like to find 5 highest-ranked countries in terms of number of top globally-ranked universities and common ground between these countries."
   ]
  },
  {
   "cell_type": "markdown",
   "metadata": {},
   "source": [
    "#### H2a: Countries have most high-ranked universities are wealthy developed countries. \n",
    "The governments of wealthy developed countries can invest more money in education. As a result, developed countries have more top universities than developing countries."
   ]
  },
  {
   "cell_type": "markdown",
   "metadata": {},
   "source": [
    "#### H2b: The population of a country affects the quality of its education. Populous countries might have more globally-ranked universities than the ones with small population. \n",
    "Populous countries have higher demand of educational resources. The larger the number of universities in a country, the greater the chances of these universities are ranked in top global universities."
   ]
  },
  {
   "cell_type": "markdown",
   "metadata": {},
   "source": [
    "### 3.3\tRQ3: Do any biases might exist in ranking systems from various countries?\n",
    "Different ranking systems have different preferences of indicator selections and even their evaluation standards are quite different. Therefore, there might be some biases between these ranking systems. In this research question, I want to test bias cause by regional difference."
   ]
  },
  {
   "cell_type": "markdown",
   "metadata": {},
   "source": [
    "#### H3a: A ranking system might include more globally-ranked universities of its producer’s original country than the system produced by another country."
   ]
  },
  {
   "cell_type": "markdown",
   "metadata": {},
   "source": [
    "## 4.\tData"
   ]
  },
  {
   "cell_type": "markdown",
   "metadata": {},
   "source": [
    "In order to answer the research questions and test hypotheses, I plan to perform a couple of quantitative analyses and visualize data on the datasets from two of the most influential and widely observed university measures. In addition, other two datasets, population data and school and country lookup table, will be specific to some of hypotheses. Population dataset is downloaded from the Population Research Bureau website. Others are from Kaggle website. All datasets are public and can be legally used without constraints. Since the population data is from a certain year and there are plenty of missing values in the data of low-ranking universities in both ranking datasets, I plan to perform analysis on top 200 globally ranked universities in 2015."
   ]
  },
  {
   "cell_type": "markdown",
   "metadata": {},
   "source": [
    "### 4.1\tUniversity Ranking Data\n",
    "#### 4.1.1\tTimes Higher Education World University Ranking\n",
    "Times Higher Education is a well-known global university ranking system which mainly focuses on a lot of non-English educational institutions and their commercialization. It collaborated with Thomson Reuters and started to use its own methodology since 2011. The dataset, “timesData.csv”, contains 2603 rows and 14 columns (13 performance indicators and 1 column for year). The performance indicators cover 5 major fields: teaching, research, citations, income, international outlook. I’ll use this dataset as a prime dataset to answer the majority of research questions. Columns found in the dataset are listed below:"
   ]
  },
  {
   "cell_type": "markdown",
   "metadata": {},
   "source": [
    "Column Name|Description|Value|\n",
    ":- | :------------------- | :-: \n",
    "world_rank|world rank for the university(contains rank ranges and equal ranks)|Numeric|\n",
    "university_name|name of university|String|\n",
    "country|country of each university|String|\n",
    "teaching|university score for teaching and learning environment|Numeric|\n",
    "international|university score for international outlook(staff,students,research)|Numeric|\n",
    "research|university score for research(volumn, income, reputation)|Numeric|\n",
    "citations|university score for citations(research, influence)|Numeric|\n",
    "income|university score for industry income(knowledge transfer)|Numeric|\n",
    "total_score|total score for university|Numeric|\n",
    "num_students|number of students at the university|Numeric|\n",
    "student_staff_ratio|number of students divided by number of staff|Numeric|\n",
    "international_students|percentage of students who are international|String|\n",
    "female_male_ratio|female student to male student ratio|String|\n",
    "year|year of ranking(2012 to 2016)|Numeric|"
   ]
  },
  {
   "cell_type": "markdown",
   "metadata": {},
   "source": [
    "#### 4.1.2\tAcademic Ranking of World Universities (Shanghai Ranking)\n",
    "As the first world known university ranking, it was compiled by the Center for World-Class Universities at Shanghai Jiao Tong University since 2003. The dataset contains 4897 rows and 11 columns. It will be used to make comparisons with the dataset in 4.1.1 and find any existing bias among ranking systems from different countries. The system uses 6 indicators to rank. Columns found in the dataset are listed below:"
   ]
  },
  {
   "cell_type": "markdown",
   "metadata": {},
   "source": [
    "Column Name|Description|Value|\n",
    ":- | :------------------- | :-: \n",
    "world_rank|world rank for the university(contains rank ranges and equal ranks)|Numeric|\n",
    "university_name|name of university|String|\n",
    "national_rank|rank of university within its country|Numeric|\n",
    "total_score|total score for university|Numeric|\n",
    "alumni|alumni score, based on the number of alumni of an institution winning nobel prizes and fields medals|Numeric|\n",
    "award|award score, based on the number of staff of an institution winning Nobel Prizes in Physics, Chemistry, Medicine, and Economics and Fields Medals in Mathematics|Numeric|\n",
    "hici|HiCi score, based on the number of Highly Cited Researchers selected by Thomson Reuters|Numeric|\n",
    "ns|N&S score, based on the number of papers published in Nature and Science|Numeric|\n",
    "pub|PUB score, based on total number of papers indexed in the Science Citation Index-Expanded and Social Science Citation Index|Numeric|\n",
    "pcp|PCP score, the weighted scores of the above five indicators divided by the number of full time academic staff|Numeric|\n",
    "year|year of ranking(2011 to 2016)|Numeric|"
   ]
  },
  {
   "cell_type": "markdown",
   "metadata": {},
   "source": [
    "### 4.2\tSupplementary Data\n",
    "#### 4.2.1\tSchool and Country table\n",
    "A lookup table provides location information for the universities from Times Higher Education dataset. The table is used to populate missing countries in Shanghai Ranking dataset. Columns found in the dataset are listed below:"
   ]
  },
  {
   "cell_type": "markdown",
   "metadata": {},
   "source": [
    "Column Name|Description|Value|\n",
    ":- | :------------------- | :-: \n",
    "school_name|name of university|String|\n",
    "country|country of each university|String|"
   ]
  },
  {
   "cell_type": "markdown",
   "metadata": {},
   "source": [
    "#### 4.2.2\tPopulation Data Population mid 2015\n",
    "The population data is exactly the same dataset we used in the second assignment which contains the populations of a variety of counties collected in mid 2015. This dataset will be used to test the second hypothesis of research question 2. Columns found in the dataset are listed below:"
   ]
  },
  {
   "cell_type": "markdown",
   "metadata": {},
   "source": [
    "Column Name|Description|Value|\n",
    ":- | :------------------- | :-: \n",
    "Location|name of country|String|\n",
    "Location Type|country|String|\n",
    "TimeFrame|Mid-2015|String|\n",
    "Data Type|Number|String|\n",
    "Data|population of country|String(numbers are encoded with commas)|"
   ]
  },
  {
   "cell_type": "markdown",
   "metadata": {},
   "source": [
    "## 5.\tAnalytical Methods\n",
    "### 5.1\tAnalysis\n",
    "The analysis will consist of two main parts: statistical calculations and data visualizations. To answer the research questions in section 3, computational analysis such as calculate the proportions of number of top 200 globally-ranked universities per population will be performed. For the research questions that can be more intuitively answered by visualizing the data, I will make plots in appropriate styles such as line chart, bar chart and etc."
   ]
  },
  {
   "cell_type": "markdown",
   "metadata": {},
   "source": [
    "### 5.2\tTools\n",
    "The code will be written in Python 3 in Jupyter Notebook with using the following libraries:\n",
    "*\tNumpy: will be used for quantitative analysis, especially in scientific computing \n",
    "*\tPandas: will be used for data processing and analysis\n",
    "*\tMatplotlib: will be used for visualizing data\n",
    "\n",
    "Additional libraries will also be considered depend on the need during the analysis.\n"
   ]
  },
  {
   "cell_type": "markdown",
   "metadata": {},
   "source": [
    "## 6.\tExpected Outcomes\n",
    "Outcomes are expected to be tables and visualizations based on the research questions. The visualizations will position the data along a common scale with clear labelled units, axes and values. Tables will be displayed as data frames with columns of results and corresponding values."
   ]
  },
  {
   "cell_type": "markdown",
   "metadata": {},
   "source": [
    "## 7.\tLimitations\n",
    "While there are many other university ranking systems, we are unable to know which one provides the most accurate results. Also, producers from different organizations may don’t share same standards. Moreover, both ranking datasets used in this project are not up to date, only the data before 2016 are available. Since the research relies heavily on found data, the final results may vary due to these uncertainties. "
   ]
  }
 ],
 "metadata": {
  "kernelspec": {
   "display_name": "Python 3",
   "language": "python",
   "name": "python3"
  },
  "language_info": {
   "codemirror_mode": {
    "name": "ipython",
    "version": 3
   },
   "file_extension": ".py",
   "mimetype": "text/x-python",
   "name": "python",
   "nbconvert_exporter": "python",
   "pygments_lexer": "ipython3",
   "version": "3.6.2"
  }
 },
 "nbformat": 4,
 "nbformat_minor": 2
}
